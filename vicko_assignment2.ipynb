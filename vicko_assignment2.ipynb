{
  "nbformat": 4,
  "nbformat_minor": 0,
  "metadata": {
    "colab": {
      "provenance": []
    },
    "kernelspec": {
      "name": "python3",
      "display_name": "Python 3"
    },
    "language_info": {
      "name": "python"
    }
  },
  "cells": [
    {
      "cell_type": "markdown",
      "source": [
        "# **Assignment 2**:\n",
        "1. Buatlah notebook file dengan format <nama_assignment2.ipynb> yang berisi sebuah function untuk :\n",
        "  * Mereturn angka disuatu posisi berdasarkan bilangan pertama dari sebuah daftar angka-angka.\n",
        "  * Urutan posisi dimulai dari bilangan kedua.\n",
        "  * Jika bilangan pertama melebihi jumlah banyaknya daftar angka-angka, maka return **-1**.\n",
        "  * Input : daftar angka\n",
        "\n",
        "| No | Input | Output |\n",
        "| - | - | - |\n",
        "| 1 | (3, 10, 20, 30, 40) | 40 |\n",
        "| 2 | (0, -10, 10)| -10 |\n",
        "| 3 | (1, 2, 300, 10) | 300 |\n",
        "| 4 | (100, 200, 300, -400) | -1 |\n",
        "| 5 | (4, 200, 300, -400) | -1 |\n",
        "\n"
      ],
      "metadata": {
        "id": "d0gBuWVLMBSA"
      }
    },
    {
      "cell_type": "code",
      "execution_count": 1,
      "metadata": {
        "id": "ddWw6JlXL5iv"
      },
      "outputs": [],
      "source": [
        "def urutan_angka(num):\n",
        "  if num[0] >= len(num)-1:\n",
        "    return -1\n",
        "\n",
        "  last = num[1]\n",
        "  for i in range(num[0]+1):\n",
        "    last = num[i+1]\n",
        "\n",
        "  return last\n"
      ]
    },
    {
      "cell_type": "code",
      "source": [
        "print(urutan_angka([3, 10, 20, 30, 40]))\n",
        "print(urutan_angka([0, -10, 10]))\n",
        "print(urutan_angka([1, -2, 300, 10]))\n",
        "print(urutan_angka([100, 200, 300, -400]))\n",
        "print(urutan_angka([4, 200, 300, -400]))"
      ],
      "metadata": {
        "colab": {
          "base_uri": "https://localhost:8080/"
        },
        "id": "mi_MjmebRh8v",
        "outputId": "05720c44-0061-48ea-b746-2997c08b49a2"
      },
      "execution_count": 2,
      "outputs": [
        {
          "output_type": "stream",
          "name": "stdout",
          "text": [
            "40\n",
            "-10\n",
            "300\n",
            "-1\n",
            "-1\n"
          ]
        }
      ]
    },
    {
      "cell_type": "markdown",
      "source": [
        "2. Buat module Python bernama `rumus.py` yang berisi dua fungsi: satu untuk menghitung luas segitiga dan satu lagi untuk menghitung keliling segitiga. Gunakan module tersebut di notebook utama (pada soal no 1)."
      ],
      "metadata": {
        "id": "IJrBKcq-S6Da"
      }
    },
    {
      "cell_type": "code",
      "source": [
        "import rumus as r\n",
        "\n",
        "print(r.luas(10, 5))\n",
        "print(r.keliling(10, 5, 2))\n",
        "print(r.keliling_sisi(5))"
      ],
      "metadata": {
        "colab": {
          "base_uri": "https://localhost:8080/"
        },
        "id": "WMZnt39LS6sk",
        "outputId": "e13c94f6-cf65-4d2a-ac89-d7335fcfa561"
      },
      "execution_count": 4,
      "outputs": [
        {
          "output_type": "stream",
          "name": "stdout",
          "text": [
            "25.0\n",
            "17\n",
            "15\n"
          ]
        }
      ]
    }
  ]
}